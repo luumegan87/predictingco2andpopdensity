{
 "cells": [
  {
   "cell_type": "markdown",
   "metadata": {},
   "source": [
    "Malika Rao, Megan Luu\n",
    "mmr3962, mcl3249\n",
    "\n",
    "\n",
    "This notebook was written in kaggle and therefore utilizes kaggle's file pathways\n",
    "see original notebook here: https://www.kaggle.com/code/malikamrao/final-project-this-one"
   ]
  },
  {
   "cell_type": "code",
   "execution_count": 1,
   "metadata": {
    "_cell_guid": "b1076dfc-b9ad-4769-8c92-a6c4dae69d19",
    "_uuid": "8f2839f25d086af736a60e9eeb907d3b93b6e0e5",
    "execution": {
     "iopub.execute_input": "2022-12-03T23:32:12.032935Z",
     "iopub.status.busy": "2022-12-03T23:32:12.032443Z",
     "iopub.status.idle": "2022-12-03T23:32:12.050381Z",
     "shell.execute_reply": "2022-12-03T23:32:12.048961Z",
     "shell.execute_reply.started": "2022-12-03T23:32:12.032897Z"
    }
   },
   "outputs": [],
   "source": [
    "#importing libraries\n",
    "import numpy as np\n",
    "import pandas as pd\n",
    "import matplotlib.pyplot as plt\n",
    "from sklearn.linear_model import LinearRegression\n",
    "from sklearn.model_selection import train_test_split\n",
    "from sklearn.metrics import r2_score\n",
    "from mpl_toolkits import mplot3d\n",
    "\n",
    "import os\n",
    "for dirname, _, filenames in os.walk('/kaggle/input'):\n",
    "    for filename in filenames:\n",
    "        print(os.path.join(dirname, filename))"
   ]
  },
  {
   "cell_type": "code",
   "execution_count": 389,
   "metadata": {
    "execution": {
     "iopub.execute_input": "2022-12-03T23:32:12.063129Z",
     "iopub.status.busy": "2022-12-03T23:32:12.062652Z",
     "iopub.status.idle": "2022-12-03T23:32:12.071131Z",
     "shell.execute_reply": "2022-12-03T23:32:12.069794Z",
     "shell.execute_reply.started": "2022-12-03T23:32:12.063091Z"
    }
   },
   "outputs": [],
   "source": [
    "\n",
    "%matplotlib inline\n",
    "import matplotlib.pyplot as plt\n",
    "import seaborn as sns\n",
    "\n",
    "import warnings\n",
    "warnings.filterwarnings('ignore')"
   ]
  },
  {
   "cell_type": "code",
   "execution_count": 390,
   "metadata": {
    "execution": {
     "iopub.execute_input": "2022-12-03T23:32:12.102057Z",
     "iopub.status.busy": "2022-12-03T23:32:12.100813Z",
     "iopub.status.idle": "2022-12-03T23:32:12.220484Z",
     "shell.execute_reply": "2022-12-03T23:32:12.219328Z",
     "shell.execute_reply.started": "2022-12-03T23:32:12.102013Z"
    }
   },
   "outputs": [
    {
     "name": "stdout",
     "output_type": "stream",
     "text": [
      "       Country Code Calling Code  Year  CO2 emission (Tons)  Population(2022)  \\\n",
      "0  Afghanistan   AF           93  1750                  0.0        41128771.0   \n",
      "1  Afghanistan   AF           93  1751                  0.0        41128771.0   \n",
      "2  Afghanistan   AF           93  1752                  0.0        41128771.0   \n",
      "3  Afghanistan   AF           93  1753                  0.0        41128771.0   \n",
      "4  Afghanistan   AF           93  1754                  0.0        41128771.0   \n",
      "\n",
      "       Area % of World Density(km2)  \n",
      "0  652230.0      0.40%       63/km²  \n",
      "1  652230.0      0.40%       63/km²  \n",
      "2  652230.0      0.40%       63/km²  \n",
      "3  652230.0      0.40%       63/km²  \n",
      "4  652230.0      0.40%       63/km²  \n",
      "<class 'pandas.core.frame.DataFrame'>\n",
      "RangeIndex: 59620 entries, 0 to 59619\n",
      "Data columns (total 9 columns):\n",
      " #   Column               Non-Null Count  Dtype  \n",
      "---  ------               --------------  -----  \n",
      " 0   Country              59620 non-null  object \n",
      " 1   Code                 57452 non-null  object \n",
      " 2   Calling Code         56097 non-null  object \n",
      " 3   Year                 59620 non-null  int64  \n",
      " 4   CO2 emission (Tons)  59620 non-null  float64\n",
      " 5   Population(2022)     53116 non-null  float64\n",
      " 6   Area                 55284 non-null  float64\n",
      " 7   % of World           55284 non-null  object \n",
      " 8   Density(km2)         53116 non-null  object \n",
      "dtypes: float64(3), int64(1), object(5)\n",
      "memory usage: 4.1+ MB\n",
      "None\n",
      "         Year        Country  total population\n",
      "0  2017-01-01  United States       325700000.0\n",
      "1  2016-01-01  United States       323127513.0\n",
      "2  2015-01-01  United States       320896618.0\n",
      "3  2014-01-01  United States       318563456.0\n",
      "4  2013-01-01  United States       316204908.0\n",
      "<class 'pandas.core.frame.DataFrame'>\n",
      "RangeIndex: 58 entries, 0 to 57\n",
      "Data columns (total 3 columns):\n",
      " #   Column            Non-Null Count  Dtype  \n",
      "---  ------            --------------  -----  \n",
      " 0   Year              58 non-null     object \n",
      " 1   Country           58 non-null     object \n",
      " 2   total population  58 non-null     float64\n",
      "dtypes: float64(1), object(2)\n",
      "memory usage: 1.5+ KB\n",
      "None\n"
     ]
    }
   ],
   "source": [
    "#importing datasets\n",
    "df1=pd.read_csv('/kaggle/input/co2-emission-by-countries-year-wise-17502022/CO2 emission by countries.csv',encoding='latin1')\n",
    "df2 = pd.read_csv('/kaggle/input/pop-data/population data.csv',encoding='latin1')\n",
    "\n",
    "\n",
    "print(df1.head())\n",
    "print(df1.info())\n",
    "\n",
    "print(df2.head())\n",
    "print(df2.info())"
   ]
  },
  {
   "cell_type": "code",
   "execution_count": 391,
   "metadata": {
    "execution": {
     "iopub.execute_input": "2022-12-03T23:32:12.222990Z",
     "iopub.status.busy": "2022-12-03T23:32:12.222652Z",
     "iopub.status.idle": "2022-12-03T23:32:12.233135Z",
     "shell.execute_reply": "2022-12-03T23:32:12.232295Z",
     "shell.execute_reply.started": "2022-12-03T23:32:12.222958Z"
    }
   },
   "outputs": [
    {
     "name": "stdout",
     "output_type": "stream",
     "text": [
      "1960-01-01\n",
      "[[2017]\n",
      " [2016]\n",
      " [2015]\n",
      " [2014]\n",
      " [2013]\n",
      " [2012]]\n",
      "   Year        Country  total population\n",
      "0  2017  United States       325700000.0\n",
      "1  2016  United States       323127513.0\n",
      "2  2015  United States       320896618.0\n",
      "3  2014  United States       318563456.0\n",
      "4  2013  United States       316204908.0\n"
     ]
    }
   ],
   "source": [
    "#adjusting data \n",
    "[row, col] = df2.shape\n",
    "print(df2.loc[(row-1),'Year'])\n",
    "\n",
    "years = np.arange(2017,1959,-1).reshape(-1,1)\n",
    "print(years[0:6])\n",
    "\n",
    "df2['Year'] = years\n",
    "print(df2.head())"
   ]
  },
  {
   "cell_type": "code",
   "execution_count": 392,
   "metadata": {
    "execution": {
     "iopub.execute_input": "2022-12-03T23:32:12.235158Z",
     "iopub.status.busy": "2022-12-03T23:32:12.234861Z",
     "iopub.status.idle": "2022-12-03T23:32:12.255504Z",
     "shell.execute_reply": "2022-12-03T23:32:12.254423Z",
     "shell.execute_reply.started": "2022-12-03T23:32:12.235130Z"
    }
   },
   "outputs": [
    {
     "name": "stdout",
     "output_type": "stream",
     "text": [
      "         Country Code Calling Code  Year  CO2 emission (Tons)  \\\n",
      "0  United States   US            1  1750                  0.0   \n",
      "1  United States   US            1  1751                  0.0   \n",
      "2  United States   US            1  1752                  0.0   \n",
      "3  United States   US            1  1753                  0.0   \n",
      "4  United States   US            1  1754                  0.0   \n",
      "\n",
      "   Population(2022)       Area % of World Density(km2)  \n",
      "0       338289857.0  9372610.0      6.10%       36/km²  \n",
      "1       338289857.0  9372610.0      6.10%       36/km²  \n",
      "2       338289857.0  9372610.0      6.10%       36/km²  \n",
      "3       338289857.0  9372610.0      6.10%       36/km²  \n",
      "4       338289857.0  9372610.0      6.10%       36/km²  \n"
     ]
    }
   ],
   "source": [
    "#pulling US data\n",
    "df1_US = df1[(df1['Country'] == 'United States')].reset_index(drop = 'True')\n",
    "\n",
    "print(df1_US.head())"
   ]
  },
  {
   "cell_type": "code",
   "execution_count": 393,
   "metadata": {
    "execution": {
     "iopub.execute_input": "2022-12-03T23:32:12.258854Z",
     "iopub.status.busy": "2022-12-03T23:32:12.257956Z",
     "iopub.status.idle": "2022-12-03T23:32:12.286308Z",
     "shell.execute_reply": "2022-12-03T23:32:12.285083Z",
     "shell.execute_reply.started": "2022-12-03T23:32:12.258809Z"
    }
   },
   "outputs": [
    {
     "name": "stdout",
     "output_type": "stream",
     "text": [
      "   Year        Country  total population Code Calling Code  \\\n",
      "0  2017  United States       325700000.0   US            1   \n",
      "1  2016  United States       323127513.0   US            1   \n",
      "2  2015  United States       320896618.0   US            1   \n",
      "3  2014  United States       318563456.0   US            1   \n",
      "4  2013  United States       316204908.0   US            1   \n",
      "\n",
      "   CO2 emission (Tons)  Population(2022)       Area % of World Density(km2)  \n",
      "0         4.010000e+11       338289857.0  9372610.0      6.10%       36/km²  \n",
      "1         3.960000e+11       338289857.0  9372610.0      6.10%       36/km²  \n",
      "2         3.910000e+11       338289857.0  9372610.0      6.10%       36/km²  \n",
      "3         3.860000e+11       338289857.0  9372610.0      6.10%       36/km²  \n",
      "4         3.800000e+11       338289857.0  9372610.0      6.10%       36/km²  \n",
      "<class 'pandas.core.frame.DataFrame'>\n",
      "Int64Index: 58 entries, 0 to 57\n",
      "Data columns (total 10 columns):\n",
      " #   Column               Non-Null Count  Dtype  \n",
      "---  ------               --------------  -----  \n",
      " 0   Year                 58 non-null     int64  \n",
      " 1   Country              58 non-null     object \n",
      " 2   total population     58 non-null     float64\n",
      " 3   Code                 58 non-null     object \n",
      " 4   Calling Code         58 non-null     object \n",
      " 5   CO2 emission (Tons)  58 non-null     float64\n",
      " 6   Population(2022)     58 non-null     float64\n",
      " 7   Area                 58 non-null     float64\n",
      " 8   % of World           58 non-null     object \n",
      " 9   Density(km2)         58 non-null     object \n",
      "dtypes: float64(4), int64(1), object(5)\n",
      "memory usage: 5.0+ KB\n",
      "None\n"
     ]
    }
   ],
   "source": [
    "#combining datasets\n",
    "df_combo = df2.merge(df1_US,how='left', on=['Country','Year'])\n",
    "print(df_combo.head())\n",
    "print(df_combo.info())\n"
   ]
  },
  {
   "cell_type": "code",
   "execution_count": 394,
   "metadata": {
    "execution": {
     "iopub.execute_input": "2022-12-03T23:32:12.810506Z",
     "iopub.status.busy": "2022-12-03T23:32:12.810028Z",
     "iopub.status.idle": "2022-12-03T23:32:12.835053Z",
     "shell.execute_reply": "2022-12-03T23:32:12.833619Z",
     "shell.execute_reply.started": "2022-12-03T23:32:12.810471Z"
    }
   },
   "outputs": [
    {
     "name": "stdout",
     "output_type": "stream",
     "text": [
      "   Year        Country  total population Code Calling Code  \\\n",
      "0  2017  United States       325700000.0   US            1   \n",
      "1  2016  United States       323127513.0   US            1   \n",
      "2  2015  United States       320896618.0   US            1   \n",
      "3  2014  United States       318563456.0   US            1   \n",
      "4  2013  United States       316204908.0   US            1   \n",
      "\n",
      "   CO2 emission (Tons)  Population(2022)       Area % of World Density(km2)  \\\n",
      "0         4.010000e+11       338289857.0  9372610.0      6.10%       36/km²   \n",
      "1         3.960000e+11       338289857.0  9372610.0      6.10%       36/km²   \n",
      "2         3.910000e+11       338289857.0  9372610.0      6.10%       36/km²   \n",
      "3         3.860000e+11       338289857.0  9372610.0      6.10%       36/km²   \n",
      "4         3.800000e+11       338289857.0  9372610.0      6.10%       36/km²   \n",
      "\n",
      "   population density  \n",
      "0           33.121405  \n",
      "1           32.859801  \n",
      "2           32.632935  \n",
      "3           32.395669  \n",
      "4           32.155821  \n",
      "<class 'pandas.core.frame.DataFrame'>\n",
      "Int64Index: 58 entries, 0 to 57\n",
      "Data columns (total 11 columns):\n",
      " #   Column               Non-Null Count  Dtype  \n",
      "---  ------               --------------  -----  \n",
      " 0   Year                 58 non-null     int64  \n",
      " 1   Country              58 non-null     object \n",
      " 2   total population     58 non-null     float64\n",
      " 3   Code                 58 non-null     object \n",
      " 4   Calling Code         58 non-null     object \n",
      " 5   CO2 emission (Tons)  58 non-null     float64\n",
      " 6   Population(2022)     58 non-null     float64\n",
      " 7   Area                 58 non-null     float64\n",
      " 8   % of World           58 non-null     object \n",
      " 9   Density(km2)         58 non-null     object \n",
      " 10  population density   58 non-null     float64\n",
      "dtypes: float64(5), int64(1), object(5)\n",
      "memory usage: 5.4+ KB\n",
      "None\n"
     ]
    }
   ],
   "source": [
    "#generating population density\n",
    "totarea = 9833520 #km^2\n",
    "\n",
    "popdens = df_combo['total population']/totarea\n",
    "df_combo['population density'] = popdens\n",
    "\n",
    "print(df_combo.head())\n",
    "print(df_combo.info())"
   ]
  },
  {
   "cell_type": "code",
   "execution_count": 395,
   "metadata": {
    "execution": {
     "iopub.execute_input": "2022-12-03T23:32:12.838246Z",
     "iopub.status.busy": "2022-12-03T23:32:12.837597Z",
     "iopub.status.idle": "2022-12-03T23:32:13.312434Z",
     "shell.execute_reply": "2022-12-03T23:32:13.311274Z",
     "shell.execute_reply.started": "2022-12-03T23:32:12.838200Z"
    }
   },
   "outputs": [
    {
     "data": {
      "image/png": "[encoded data removed]",
      "text/plain": [
       "<Figure size 432x288 with 1 Axes>"
      ]
     },
     "metadata": {
      "needs_background": "light"
     },
     "output_type": "display_data"
    },
    {
     "data": {
      "image/png": "[encoded data removed]",
      "text/plain": [
       "<Figure size 432x288 with 1 Axes>"
      ]
     },
     "metadata": {
      "needs_background": "light"
     },
     "output_type": "display_data"
    }
   ],
   "source": [
    "#exploratory plotting\n",
    "fig1=plt.figure()\n",
    "plt.plot(df_combo['Year'],df_combo['CO2 emission (Tons)'],'bo')\n",
    "plt.xlabel('Year')\n",
    "plt.ylabel('CO2 emissions (tons)')\n",
    "plt.title('time vs co2 emissions')\n",
    "\n",
    "plt.savefig('timevsco2')\n",
    "\n",
    "fig2=plt.figure()\n",
    "plt.plot(df_combo['population density'],df_combo['CO2 emission (Tons)'],'go')\n",
    "plt.xlabel('population density')\n",
    "plt.ylabel('co2 emissions')\n",
    "plt.title('population density vs co2 emissions')\n",
    "\n",
    "plt.savefig('popdensvsco2')"
   ]
  },
  {
   "cell_type": "code",
   "execution_count": 396,
   "metadata": {
    "execution": {
     "iopub.execute_input": "2022-12-03T23:32:13.314918Z",
     "iopub.status.busy": "2022-12-03T23:32:13.313791Z",
     "iopub.status.idle": "2022-12-03T23:32:13.321183Z",
     "shell.execute_reply": "2022-12-03T23:32:13.320380Z",
     "shell.execute_reply.started": "2022-12-03T23:32:13.314863Z"
    }
   },
   "outputs": [],
   "source": [
    "y = df_combo['CO2 emission (Tons)']\n",
    "\n",
    "x = df_combo['Year'].to_numpy()\n",
    "x = x.reshape(-1,1)\n"
   ]
  },
  {
   "cell_type": "code",
   "execution_count": 397,
   "metadata": {
    "execution": {
     "iopub.execute_input": "2022-12-03T23:32:13.325358Z",
     "iopub.status.busy": "2022-12-03T23:32:13.324110Z",
     "iopub.status.idle": "2022-12-03T23:32:13.338528Z",
     "shell.execute_reply": "2022-12-03T23:32:13.337560Z",
     "shell.execute_reply.started": "2022-12-03T23:32:13.325311Z"
    }
   },
   "outputs": [
    {
     "data": {
      "text/plain": [
       "LinearRegression()"
      ]
     },
     "execution_count": 397,
     "metadata": {},
     "output_type": "execute_result"
    }
   ],
   "source": [
    "#linear regression\n",
    "#Split data between training and testing sets\n",
    "\n",
    "x_train, x_test, y_train, y_test = train_test_split(x, y, test_size=0.3,random_state=42)\n",
    "\n",
    "#Create linear model\n",
    "lm=LinearRegression()\n",
    "\n",
    "#Fit linear model\n",
    "lm.fit(x_train,y_train)"
   ]
  },
  {
   "cell_type": "code",
   "execution_count": 398,
   "metadata": {
    "execution": {
     "iopub.execute_input": "2022-12-03T23:32:13.340132Z",
     "iopub.status.busy": "2022-12-03T23:32:13.339831Z",
     "iopub.status.idle": "2022-12-03T23:32:13.351625Z",
     "shell.execute_reply": "2022-12-03T23:32:13.350668Z",
     "shell.execute_reply.started": "2022-12-03T23:32:13.340104Z"
    }
   },
   "outputs": [
    {
     "name": "stdout",
     "output_type": "stream",
     "text": [
      "R^2 =  0.9943810771375085\n",
      "R^2 adjusted = 0.9942332107463903\n"
     ]
    }
   ],
   "source": [
    "#Use model to predict \n",
    "y_train_predicted=lm.predict(x_train)\n",
    "\n",
    "#Compute r squared from training dataset\n",
    "r2_train = r2_score(y_train,y_train_predicted)\n",
    "\n",
    "#Compute adjusted rsquared from training dataset\n",
    "n = x_train.shape[0]\n",
    "p = x_train.shape[1]\n",
    "\n",
    "r2_train_adj = 1-(((1-r2_train)*(n-1))/(n-p-1))\n",
    "\n",
    "print('R^2 = ',r2_train)\n",
    "print('R^2 adjusted =', r2_train_adj)"
   ]
  },
  {
   "cell_type": "code",
   "execution_count": 399,
   "metadata": {
    "execution": {
     "iopub.execute_input": "2022-12-03T23:32:13.353185Z",
     "iopub.status.busy": "2022-12-03T23:32:13.352869Z",
     "iopub.status.idle": "2022-12-03T23:32:13.364283Z",
     "shell.execute_reply": "2022-12-03T23:32:13.363502Z",
     "shell.execute_reply.started": "2022-12-03T23:32:13.353155Z"
    }
   },
   "outputs": [
    {
     "name": "stdout",
     "output_type": "stream",
     "text": [
      "R^2 =  0.99483725184977\n",
      "R^2 adjusted = 0.9945145800903806\n",
      "[4.98905925e+09]\n",
      "-9672819487471.08\n"
     ]
    }
   ],
   "source": [
    "#Predict y values from testing dataset\n",
    "y_test_predicted = lm.predict(x_test)\n",
    "\n",
    "#Compute r squared from testing dataset\n",
    "r2_test = r2_score(y_test,y_test_predicted)\n",
    "\n",
    "#Compute adjusted rsquared from testing dataset\n",
    "n = x_test.shape[0]\n",
    "p = x_test.shape[1]\n",
    "\n",
    "r2_test_adj = 1-(((1-r2_test)*(n-1))/(n-p-1))\n",
    "\n",
    "print('R^2 = ',r2_test)\n",
    "print('R^2 adjusted =', r2_test_adj)\n",
    "\n",
    "print(lm.coef_)\n",
    "print(lm.intercept_)"
   ]
  },
  {
   "cell_type": "code",
   "execution_count": 400,
   "metadata": {
    "execution": {
     "iopub.execute_input": "2022-12-03T23:32:13.366485Z",
     "iopub.status.busy": "2022-12-03T23:32:13.365916Z",
     "iopub.status.idle": "2022-12-03T23:32:13.632402Z",
     "shell.execute_reply": "2022-12-03T23:32:13.631198Z",
     "shell.execute_reply.started": "2022-12-03T23:32:13.366440Z"
    }
   },
   "outputs": [
    {
     "data": {
      "image/png": "[encoded data removed]",
      "text/plain": [
       "<Figure size 432x288 with 1 Axes>"
      ]
     },
     "metadata": {
      "needs_background": "light"
     },
     "output_type": "display_data"
    }
   ],
   "source": [
    "#plot model vs observed data\n",
    "fig5=plt.figure()\n",
    "\n",
    "b1 = lm.coef_\n",
    "b0 = lm.intercept_\n",
    "\n",
    "p1 = plt.plot(x_test,y_test,ls='',marker='o', markersize = '5')\n",
    "p2 = plt.plot(x_test,y_test_predicted,ls='-',marker='')\n",
    "plt.xlabel('Year')\n",
    "plt.ylabel('CO2 emissions (tons)')\n",
    "plt.title('Linear Model vs Observed Data')\n",
    "\n",
    "plt.savefig('linmodtime')"
   ]
  },
  {
   "cell_type": "code",
   "execution_count": 401,
   "metadata": {
    "execution": {
     "iopub.execute_input": "2022-12-03T23:32:13.634091Z",
     "iopub.status.busy": "2022-12-03T23:32:13.633766Z",
     "iopub.status.idle": "2022-12-03T23:32:13.945985Z",
     "shell.execute_reply": "2022-12-03T23:32:13.944559Z",
     "shell.execute_reply.started": "2022-12-03T23:32:13.634062Z"
    }
   },
   "outputs": [
    {
     "data": {
      "image/png": "[encoded data removed]",
      "text/plain": [
       "<Figure size 432x288 with 1 Axes>"
      ]
     },
     "metadata": {
      "needs_background": "light"
     },
     "output_type": "display_data"
    }
   ],
   "source": [
    "#Plot results \n",
    "fig3=plt.figure()\n",
    "\n",
    "p1 = plt.plot(y_train,y_train_predicted,ls='',marker='o', markersize = '2')\n",
    "p1 = plt.plot(y_test,y_test_predicted,ls='',marker='o', markersize = '2')\n",
    "p3 = plt.plot(y_train, y_train,ls='--',alpha=.3)\n",
    "plt.xlabel('actual co2 emissions')\n",
    "plt.ylabel('predicted CO2 emissions')\n",
    "\n",
    "ax=plt.gca()\n",
    "ax.set_aspect('equal')\n",
    "ax.legend(['Training Data','Testing Data','1:1'])\n",
    "plt.ylabel('y Predicted')\n",
    "plt.xlabel('y Measured')\n",
    "\n",
    "plt.savefig('yvytime')"
   ]
  },
  {
   "cell_type": "code",
   "execution_count": 402,
   "metadata": {
    "execution": {
     "iopub.execute_input": "2022-12-03T23:32:13.948735Z",
     "iopub.status.busy": "2022-12-03T23:32:13.948305Z",
     "iopub.status.idle": "2022-12-03T23:32:14.292735Z",
     "shell.execute_reply": "2022-12-03T23:32:14.291550Z",
     "shell.execute_reply.started": "2022-12-03T23:32:13.948691Z"
    }
   },
   "outputs": [
    {
     "data": {
      "image/png": "[encoded data removed]",
      "text/plain": [
       "<Figure size 432x288 with 1 Axes>"
      ]
     },
     "metadata": {
      "needs_background": "light"
     },
     "output_type": "display_data"
    }
   ],
   "source": [
    "#residuals\n",
    "residual_train=y_train-y_train_predicted\n",
    "residual_test=y_test-y_test_predicted\n",
    "\n",
    "end = df_combo.loc[0,'CO2 emission (Tons)']\n",
    "\n",
    "fig4 = plt.figure()\n",
    "p1=plt.plot(y_train,residual_train,marker='o',color = 'm',ls='')\n",
    "p2=plt.plot(y_test,residual_test,marker='o', color = 'c',ls='')\n",
    "p3=plt.plot(np.array([2,end]),np.array([0,0]),ls='--',alpha=.35)\n",
    "ax=plt.gca()\n",
    "ax.legend(['Training Data','Testing Data','0 Residual for Comparison'],loc=3,fontsize='small')\n",
    "plt.ylabel('Residual')\n",
    "plt.xlabel('Measured Value')\n",
    "plt.title('Residuals for time vs CO2 emissions')\n",
    "\n",
    "plt.savefig('restime')"
   ]
  },
  {
   "cell_type": "code",
   "execution_count": 403,
   "metadata": {
    "execution": {
     "iopub.execute_input": "2022-12-03T23:32:14.297914Z",
     "iopub.status.busy": "2022-12-03T23:32:14.297521Z",
     "iopub.status.idle": "2022-12-03T23:32:14.303521Z",
     "shell.execute_reply": "2022-12-03T23:32:14.302434Z",
     "shell.execute_reply.started": "2022-12-03T23:32:14.297878Z"
    }
   },
   "outputs": [],
   "source": [
    "y = df_combo['CO2 emission (Tons)']\n",
    "\n",
    "x = df_combo['population density'].to_numpy()\n",
    "x = x.reshape(-1,1)\n"
   ]
  },
  {
   "cell_type": "code",
   "execution_count": 404,
   "metadata": {
    "execution": {
     "iopub.execute_input": "2022-12-03T23:32:14.305070Z",
     "iopub.status.busy": "2022-12-03T23:32:14.304709Z",
     "iopub.status.idle": "2022-12-03T23:32:14.322315Z",
     "shell.execute_reply": "2022-12-03T23:32:14.321092Z",
     "shell.execute_reply.started": "2022-12-03T23:32:14.305037Z"
    }
   },
   "outputs": [
    {
     "data": {
      "text/plain": [
       "LinearRegression()"
      ]
     },
     "execution_count": 404,
     "metadata": {},
     "output_type": "execute_result"
    }
   ],
   "source": [
    "#linear regression\n",
    "#Split data between training and testing sets\n",
    "\n",
    "x_train, x_test, y_train, y_test = train_test_split(x, y, test_size=0.3,random_state=42)\n",
    "\n",
    "#Create linear model\n",
    "lm=LinearRegression()\n",
    "\n",
    "#Fit linear model\n",
    "lm.fit(x_train,y_train)"
   ]
  },
  {
   "cell_type": "code",
   "execution_count": 405,
   "metadata": {
    "execution": {
     "iopub.execute_input": "2022-12-03T23:32:14.325941Z",
     "iopub.status.busy": "2022-12-03T23:32:14.324825Z",
     "iopub.status.idle": "2022-12-03T23:32:14.335155Z",
     "shell.execute_reply": "2022-12-03T23:32:14.334066Z",
     "shell.execute_reply.started": "2022-12-03T23:32:14.325866Z"
    }
   },
   "outputs": [
    {
     "name": "stdout",
     "output_type": "stream",
     "text": [
      "R^2 =  0.9981116995406423\n",
      "R^2 adjusted = 0.9980620074232908\n"
     ]
    }
   ],
   "source": [
    "#Use model to predict \n",
    "y_train_predicted=lm.predict(x_train)\n",
    "\n",
    "#Compute r squared from training dataset\n",
    "r2_train = r2_score(y_train,y_train_predicted)\n",
    "\n",
    "#Compute adjusted rsquared from training dataset\n",
    "n = x_train.shape[0]\n",
    "p = x_train.shape[1]\n",
    "\n",
    "r2_train_adj = 1-(((1-r2_train)*(n-1))/(n-p-1))\n",
    "\n",
    "print('R^2 = ',r2_train)\n",
    "print('R^2 adjusted =', r2_train_adj)"
   ]
  },
  {
   "cell_type": "code",
   "execution_count": 406,
   "metadata": {
    "execution": {
     "iopub.execute_input": "2022-12-03T23:32:14.337413Z",
     "iopub.status.busy": "2022-12-03T23:32:14.336928Z",
     "iopub.status.idle": "2022-12-03T23:32:14.349578Z",
     "shell.execute_reply": "2022-12-03T23:32:14.348375Z",
     "shell.execute_reply.started": "2022-12-03T23:32:14.337351Z"
    }
   },
   "outputs": [
    {
     "name": "stdout",
     "output_type": "stream",
     "text": [
      "R^2 =  0.9986878091149312\n",
      "R^2 adjusted = 0.9986057971846144\n",
      "[1.92625372e+10]\n",
      "-243783824984.3031\n"
     ]
    }
   ],
   "source": [
    "#Predict y values from testing dataset\n",
    "y_test_predicted = lm.predict(x_test)\n",
    "\n",
    "#Compute r squared from testing dataset\n",
    "r2_test = r2_score(y_test,y_test_predicted)\n",
    "\n",
    "#Compute adjusted rsquared from testing dataset\n",
    "n = x_test.shape[0]\n",
    "p = x_test.shape[1]\n",
    "\n",
    "r2_test_adj = 1-(((1-r2_test)*(n-1))/(n-p-1))\n",
    "\n",
    "print('R^2 = ',r2_test)\n",
    "print('R^2 adjusted =', r2_test_adj)\n",
    "\n",
    "print(lm.coef_)\n",
    "print(lm.intercept_)"
   ]
  },
  {
   "cell_type": "code",
   "execution_count": 407,
   "metadata": {
    "execution": {
     "iopub.execute_input": "2022-12-03T23:32:14.351647Z",
     "iopub.status.busy": "2022-12-03T23:32:14.351250Z",
     "iopub.status.idle": "2022-12-03T23:32:14.627921Z",
     "shell.execute_reply": "2022-12-03T23:32:14.626772Z",
     "shell.execute_reply.started": "2022-12-03T23:32:14.351598Z"
    }
   },
   "outputs": [
    {
     "data": {
      "image/png": "[encoded data removed]",
      "text/plain": [
       "<Figure size 432x288 with 1 Axes>"
      ]
     },
     "metadata": {
      "needs_background": "light"
     },
     "output_type": "display_data"
    }
   ],
   "source": [
    "#plot model vs observed data\n",
    "fig5=plt.figure()\n",
    "\n",
    "b1 = lm.coef_\n",
    "b0 = lm.intercept_\n",
    "\n",
    "p1 = plt.plot(x_test,y_test,ls='',marker='o', markersize = '5')\n",
    "p2 = plt.plot(x_test,y_test_predicted,ls='-',marker='')\n",
    "plt.xlabel('Year')\n",
    "plt.ylabel('CO2 emissions (tons)')\n",
    "plt.title('Linear Model vs Observed Data')\n",
    "\n",
    "plt.savefig('linmodpop')"
   ]
  },
  {
   "cell_type": "code",
   "execution_count": 408,
   "metadata": {
    "execution": {
     "iopub.execute_input": "2022-12-03T23:32:14.630721Z",
     "iopub.status.busy": "2022-12-03T23:32:14.630096Z",
     "iopub.status.idle": "2022-12-03T23:32:14.942531Z",
     "shell.execute_reply": "2022-12-03T23:32:14.941602Z",
     "shell.execute_reply.started": "2022-12-03T23:32:14.630569Z"
    }
   },
   "outputs": [
    {
     "data": {
      "image/png": "[encoded data removed]",
      "text/plain": [
       "<Figure size 432x288 with 1 Axes>"
      ]
     },
     "metadata": {
      "needs_background": "light"
     },
     "output_type": "display_data"
    }
   ],
   "source": [
    "#Plot results \n",
    "fig3=plt.figure()\n",
    "\n",
    "p1 = plt.plot(y_train,y_train_predicted,ls='',marker='o', markersize = '2')\n",
    "p1 = plt.plot(y_test,y_test_predicted,ls='',marker='o', markersize = '2')\n",
    "p3 = plt.plot(y_train, y_train,ls='--',alpha=.3)\n",
    "plt.xlabel('actual co2 emissions')\n",
    "plt.ylabel('predicted CO2 emissions')\n",
    "\n",
    "ax=plt.gca()\n",
    "ax.set_aspect('equal')\n",
    "ax.legend(['Training Data','Testing Data','1:1'])\n",
    "plt.ylabel('y Predicted')\n",
    "plt.xlabel('y Measured')\n",
    "\n",
    "plt.savefig('yvypop')"
   ]
  },
  {
   "cell_type": "code",
   "execution_count": 409,
   "metadata": {
    "execution": {
     "iopub.execute_input": "2022-12-03T23:32:14.944632Z",
     "iopub.status.busy": "2022-12-03T23:32:14.944212Z",
     "iopub.status.idle": "2022-12-03T23:32:15.276872Z",
     "shell.execute_reply": "2022-12-03T23:32:15.275904Z",
     "shell.execute_reply.started": "2022-12-03T23:32:14.944595Z"
    }
   },
   "outputs": [
    {
     "data": {
      "image/png": "[encoded data removed]",
      "text/plain": [
       "<Figure size 432x288 with 1 Axes>"
      ]
     },
     "metadata": {
      "needs_background": "light"
     },
     "output_type": "display_data"
    }
   ],
   "source": [
    "#residuals\n",
    "residual_train=y_train-y_train_predicted\n",
    "residual_test=y_test-y_test_predicted\n",
    "\n",
    "end = df_combo.loc[0,'CO2 emission (Tons)']\n",
    "\n",
    "fig4 = plt.figure()\n",
    "p1=plt.plot(y_train,residual_train,marker='o',color = 'm',ls='')\n",
    "p2=plt.plot(y_test,residual_test,marker='o', color = 'c',ls='')\n",
    "p3=plt.plot(np.array([2,end]),np.array([0,0]),ls='--',alpha=.35)\n",
    "ax=plt.gca()\n",
    "ax.legend(['Training Data','Testing Data','0 Residual for Comparison'],loc=3,fontsize='small')\n",
    "plt.ylabel('Residual')\n",
    "plt.xlabel('Measured Value')\n",
    "plt.title('Residuals for time vs CO2 emissions')\n",
    "\n",
    "plt.savefig('respop')"
   ]
  },
  {
   "cell_type": "markdown",
   "metadata": {},
   "source": [
    "Now, adding population density to model"
   ]
  },
  {
   "cell_type": "code",
   "execution_count": 410,
   "metadata": {
    "execution": {
     "iopub.execute_input": "2022-12-03T23:32:15.280425Z",
     "iopub.status.busy": "2022-12-03T23:32:15.279450Z",
     "iopub.status.idle": "2022-12-03T23:32:15.286849Z",
     "shell.execute_reply": "2022-12-03T23:32:15.285996Z",
     "shell.execute_reply.started": "2022-12-03T23:32:15.280352Z"
    }
   },
   "outputs": [],
   "source": [
    "#obtaining variables\n",
    "y2 = df_combo['CO2 emission (Tons)']\n",
    "\n",
    "x2 = df_combo.loc[:,['Year','population density']]"
   ]
  },
  {
   "cell_type": "code",
   "execution_count": 411,
   "metadata": {
    "execution": {
     "iopub.execute_input": "2022-12-03T23:32:15.288660Z",
     "iopub.status.busy": "2022-12-03T23:32:15.287908Z",
     "iopub.status.idle": "2022-12-03T23:32:15.308132Z",
     "shell.execute_reply": "2022-12-03T23:32:15.306960Z",
     "shell.execute_reply.started": "2022-12-03T23:32:15.288625Z"
    }
   },
   "outputs": [
    {
     "data": {
      "text/plain": [
       "LinearRegression()"
      ]
     },
     "execution_count": 411,
     "metadata": {},
     "output_type": "execute_result"
    }
   ],
   "source": [
    "#linear regression\n",
    "#Split data between training and testing sets\n",
    "\n",
    "x2_train, x2_test, y2_train, y2_test = train_test_split(x2, y2, test_size=0.3,random_state=42)\n",
    "\n",
    "#Create linear model\n",
    "lm=LinearRegression()\n",
    "\n",
    "#Fit linear model\n",
    "lm.fit(x2_train,y2_train)\n"
   ]
  },
  {
   "cell_type": "code",
   "execution_count": 412,
   "metadata": {
    "execution": {
     "iopub.execute_input": "2022-12-03T23:32:15.310179Z",
     "iopub.status.busy": "2022-12-03T23:32:15.309574Z",
     "iopub.status.idle": "2022-12-03T23:32:15.324530Z",
     "shell.execute_reply": "2022-12-03T23:32:15.323198Z",
     "shell.execute_reply.started": "2022-12-03T23:32:15.310145Z"
    }
   },
   "outputs": [
    {
     "name": "stdout",
     "output_type": "stream",
     "text": [
      "R^2 =  0.9981719426892756\n",
      "R^2 adjusted = 0.9980731287805877\n"
     ]
    }
   ],
   "source": [
    "#Use model to predict \n",
    "y2_train_predicted=lm.predict(x2_train)\n",
    "\n",
    "#Compute r squared from training dataset\n",
    "r2_train = r2_score(y2_train,y2_train_predicted)\n",
    "\n",
    "#Compute adjusted rsquared from training dataset\n",
    "n = x2_train.shape[0]\n",
    "p = x2_train.shape[1]\n",
    "\n",
    "r2_train_adj = 1-(((1-r2_train)*(n-1))/(n-p-1))\n",
    "\n",
    "print('R^2 = ',r2_train)\n",
    "print('R^2 adjusted =', r2_train_adj)"
   ]
  },
  {
   "cell_type": "code",
   "execution_count": 413,
   "metadata": {
    "execution": {
     "iopub.execute_input": "2022-12-03T23:32:15.326311Z",
     "iopub.status.busy": "2022-12-03T23:32:15.325897Z",
     "iopub.status.idle": "2022-12-03T23:32:15.341487Z",
     "shell.execute_reply": "2022-12-03T23:32:15.340123Z",
     "shell.execute_reply.started": "2022-12-03T23:32:15.326276Z"
    }
   },
   "outputs": [
    {
     "name": "stdout",
     "output_type": "stream",
     "text": [
      "R^2 =  0.9986273623984644\n",
      "R^2 adjusted = 0.998444344051593\n",
      "[5.59720566e+08 1.71107208e+10]\n",
      "-1301853932864.0776\n"
     ]
    }
   ],
   "source": [
    "#Predict y values from testing dataset\n",
    "y2_test_predicted = lm.predict(x2_test)\n",
    "\n",
    "#Compute r squared from testing dataset\n",
    "r2_test = r2_score(y2_test,y2_test_predicted)\n",
    "\n",
    "#Compute adjusted rsquared from testing dataset\n",
    "n = x2_test.shape[0]\n",
    "p = x2_test.shape[1]\n",
    "\n",
    "r2_test_adj = 1-(((1-r2_test)*(n-1))/(n-p-1))\n",
    "\n",
    "print('R^2 = ',r2_test)\n",
    "print('R^2 adjusted =', r2_test_adj)\n",
    "\n",
    "print(lm.coef_)\n",
    "print(lm.intercept_)"
   ]
  },
  {
   "cell_type": "code",
   "execution_count": 414,
   "metadata": {
    "execution": {
     "iopub.execute_input": "2022-12-03T23:32:15.343706Z",
     "iopub.status.busy": "2022-12-03T23:32:15.343375Z",
     "iopub.status.idle": "2022-12-03T23:32:15.603275Z",
     "shell.execute_reply": "2022-12-03T23:32:15.602444Z",
     "shell.execute_reply.started": "2022-12-03T23:32:15.343676Z"
    }
   },
   "outputs": [
    {
     "data": {
      "image/png": "[encoded data removed]",
      "text/plain": [
       "<Figure size 720x504 with 1 Axes>"
      ]
     },
     "metadata": {
      "needs_background": "light"
     },
     "output_type": "display_data"
    },
    {
     "data": {
      "text/plain": [
       "<Figure size 432x288 with 0 Axes>"
      ]
     },
     "metadata": {},
     "output_type": "display_data"
    }
   ],
   "source": [
    "#model vs observed (in 3D!)\n",
    "\n",
    "x1 = x2_test['Year']\n",
    "x2 = x2_test['population density']\n",
    "\n",
    "# Creating figure\n",
    "fig = plt.figure(figsize = (10, 7))\n",
    "ax = plt.axes(projection =\"3d\")\n",
    " \n",
    "# Creating plot\n",
    "ax1 = ax.plot3D(x1,x2, y2_test,ls ='',marker = 'o')\n",
    "ax2 = ax.plot3D(x1, x2, y2_test_predicted)\n",
    "ax.set_xlabel('Year', labelpad=20)\n",
    "ax.set_ylabel('Population Density (/km^2)', labelpad=20)\n",
    "ax.set_zlabel('CO2 emissions (tons)', labelpad=20)\n",
    "ax.view_init(20, -170)\n",
    "    \n",
    "# show plot\n",
    "plt.show()\n",
    "\n",
    "plt.savefig('timepoplinmod')"
   ]
  },
  {
   "cell_type": "code",
   "execution_count": 415,
   "metadata": {
    "execution": {
     "iopub.execute_input": "2022-12-03T23:32:15.604851Z",
     "iopub.status.busy": "2022-12-03T23:32:15.604521Z",
     "iopub.status.idle": "2022-12-03T23:32:15.911627Z",
     "shell.execute_reply": "2022-12-03T23:32:15.910151Z",
     "shell.execute_reply.started": "2022-12-03T23:32:15.604822Z"
    }
   },
   "outputs": [
    {
     "data": {
      "image/png": "[encoded data removed]",
      "text/plain": [
       "<Figure size 432x288 with 1 Axes>"
      ]
     },
     "metadata": {
      "needs_background": "light"
     },
     "output_type": "display_data"
    }
   ],
   "source": [
    "#Plot results \n",
    "fig6=plt.figure()\n",
    "\n",
    "p1 = plt.plot(y2_train,y2_train_predicted,ls='',marker='o', markersize = '2')\n",
    "p1 = plt.plot(y2_test,y2_test_predicted,ls='',marker='o', markersize = '2')\n",
    "p3 = plt.plot(y2_train, y2_train,ls='--',alpha=.3)\n",
    "plt.xlabel('actual co2 emissions')\n",
    "plt.ylabel('predicted CO2 emissions')\n",
    "\n",
    "ax=plt.gca()\n",
    "ax.set_aspect('equal')\n",
    "ax.legend(['Training Data','Testing Data','1:1'])\n",
    "plt.ylabel('y Predicted')\n",
    "plt.xlabel('y Measured')\n",
    "\n",
    "plt.savefig('yvytimepop')"
   ]
  },
  {
   "cell_type": "code",
   "execution_count": 416,
   "metadata": {
    "execution": {
     "iopub.execute_input": "2022-12-03T23:32:15.913829Z",
     "iopub.status.busy": "2022-12-03T23:32:15.913321Z",
     "iopub.status.idle": "2022-12-03T23:32:16.245493Z",
     "shell.execute_reply": "2022-12-03T23:32:16.244334Z",
     "shell.execute_reply.started": "2022-12-03T23:32:15.913781Z"
    }
   },
   "outputs": [
    {
     "data": {
      "image/png": "[encoded data removed]",
      "text/plain": [
       "<Figure size 432x288 with 1 Axes>"
      ]
     },
     "metadata": {
      "needs_background": "light"
     },
     "output_type": "display_data"
    }
   ],
   "source": [
    "#residuals\n",
    "residual_train2=y2_train-y2_train_predicted\n",
    "residual_test2=y2_test-y2_test_predicted\n",
    "\n",
    "end = df_combo.loc[0,'CO2 emission (Tons)']\n",
    "\n",
    "fig4 = plt.figure()\n",
    "p1=plt.plot(y2_train,residual_train2,marker='o',color = 'm',ls='')\n",
    "p2=plt.plot(y2_test,residual_test2,marker='o', color = 'c',ls='')\n",
    "p3=plt.plot(np.array([2,end]),np.array([0,0]),ls='--',alpha=.35)\n",
    "ax=plt.gca()\n",
    "ax.legend(['Training Data','Testing Data','0 Residual for Comparison'],loc=1,fontsize='small')\n",
    "plt.ylabel('Residual')\n",
    "plt.xlabel('Measured Value')\n",
    "plt.title('Residuals for time vs CO2 emissions')\n",
    "\n",
    "plt.savefig('restimepop')"
   ]
  }
 ],
 "metadata": {
  "kernelspec": {
   "display_name": "Python 3 (ipykernel)",
   "language": "python",
   "name": "python3"
  },
  "language_info": {
   "codemirror_mode": {
    "name": "ipython",
    "version": 3
   },
   "file_extension": ".py",
   "mimetype": "text/x-python",
   "name": "python",
   "nbconvert_exporter": "python",
   "pygments_lexer": "ipython3",
   "version": "3.9.12"
  },
  "varInspector": {
   "cols": {
    "lenName": 16,
    "lenType": 16,
    "lenVar": 40
   },
   "kernels_config": {
    "python": {
     "delete_cmd_postfix": "",
     "delete_cmd_prefix": "del ",
     "library": "var_list.py",
     "varRefreshCmd": "print(var_dic_list())"
    },
    "r": {
     "delete_cmd_postfix": ") ",
     "delete_cmd_prefix": "rm(",
     "library": "var_list.r",
     "varRefreshCmd": "cat(var_dic_list()) "
    }
   },
   "types_to_exclude": [
    "module",
    "function",
    "builtin_function_or_method",
    "instance",
    "_Feature"
   ],
   "window_display": false
  }
 },
 "nbformat": 4,
 "nbformat_minor": 4
}
